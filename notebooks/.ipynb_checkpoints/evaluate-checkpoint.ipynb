{
 "cells": [
  {
   "cell_type": "code",
   "execution_count": 1,
   "id": "7bab083f",
   "metadata": {},
   "outputs": [],
   "source": [
    "import sys"
   ]
  },
  {
   "cell_type": "code",
   "execution_count": 3,
   "id": "324924d5-8cce-41b5-b51f-e95510f864d6",
   "metadata": {},
   "outputs": [],
   "source": [
    "# Add project root to path\n",
    "sys.path.append('../src')"
   ]
  },
  {
   "cell_type": "code",
   "execution_count": 5,
   "id": "f194e3cf-9e17-4fa2-a7d4-7eff3557cce2",
   "metadata": {},
   "outputs": [],
   "source": [
    "from evaluate import classify_signal_1d"
   ]
  },
  {
   "cell_type": "code",
   "execution_count": 7,
   "id": "54f0709b-6003-453c-a5bc-092eda016be9",
   "metadata": {},
   "outputs": [
    {
     "name": "stdin",
     "output_type": "stream",
     "text": [
      "📝 Enter signal file path:  ../data/raw/Looseness/20220429-083430.txt\n"
     ]
    },
    {
     "name": "stderr",
     "output_type": "stream",
     "text": [
      "WARNING:absl:Compiled the loaded model, but the compiled metrics have yet to be built. `model.compile_metrics` will be empty until you train or evaluate the model.\n"
     ]
    },
    {
     "name": "stdout",
     "output_type": "stream",
     "text": [
      "\u001b[1m1/1\u001b[0m \u001b[32m━━━━━━━━━━━━━━━━━━━━\u001b[0m\u001b[37m\u001b[0m \u001b[1m0s\u001b[0m 78ms/step\n",
      "🧠 Prediction: Faulty (92.38%)\n"
     ]
    }
   ],
   "source": [
    "signal_path = input(\"📝 Enter signal file path: \")\n",
    "predicted_class, confidence = classify_signal_1d(signal_path, \"../models/best_1D_model_randomsearch.h5\")"
   ]
  },
  {
   "cell_type": "code",
   "execution_count": 9,
   "id": "dcc8325e-3f63-41af-b757-ae3d67ab81e8",
   "metadata": {},
   "outputs": [],
   "source": [
    "from evaluate import classify_signal_2d"
   ]
  },
  {
   "cell_type": "code",
   "execution_count": null,
   "id": "29724c08-d3f3-4216-a508-797fd8f6b2ac",
   "metadata": {},
   "outputs": [],
   "source": [
    "signal_path = input(\"📝 Enter signal file path: \")\n",
    "predicted_class, confidence = classify_signal_1d(signal_path, \"../models/best_2DCNN_model_randomsearch.h5\")"
   ]
  }
 ],
 "metadata": {
  "kernelspec": {
   "display_name": "Python [conda env:base] *",
   "language": "python",
   "name": "conda-base-py"
  },
  "language_info": {
   "codemirror_mode": {
    "name": "ipython",
    "version": 3
   },
   "file_extension": ".py",
   "mimetype": "text/x-python",
   "name": "python",
   "nbconvert_exporter": "python",
   "pygments_lexer": "ipython3",
   "version": "3.12.2"
  }
 },
 "nbformat": 4,
 "nbformat_minor": 5
}
